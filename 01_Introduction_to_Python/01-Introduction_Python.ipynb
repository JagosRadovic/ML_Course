{
 "cells": [
  {
   "cell_type": "markdown",
   "metadata": {},
   "source": [
    "# Introduction to Python and Notebooks\n",
    "\n",
    "This is a notebook to run ipython 3 with the extension **.ipynb**.\n",
    "\n",
    "In a notebook, the code lines ran in cells. The cells can be a *coding* cell or a *markdown* cell. To change between them, exit the cell by pressing *escape* and then:\n",
    "\n",
    "* ***m*** to convert to markdown\n",
    "* ***y*** to convert to code\n",
    "\n",
    "To create new cells:\n",
    "\n",
    "* ***a*** to create cell above\n",
    "* ***b*** to create cell below\n",
    "* ***dd*** to delete a cell\n",
    "* ***c*** to copy a cell\n",
    "* ***v*** to paste a cell below\n",
    "* ***x*** to cut a cell\n",
    "\n",
    "To run a single cell, there are three different options using the keyboard:\n",
    "\n",
    "1. ***ctrl+shift***: run and go to the next cell\n",
    "2. ***ctrl+enter***: run and keeps on current cell\n",
    "3. ***alt+enter***: run and create a new cell below"
   ]
  },
  {
   "cell_type": "markdown",
   "metadata": {},
   "source": [
    "For coding, you can create variables like the example below:"
   ]
  },
  {
   "cell_type": "code",
   "execution_count": null,
   "metadata": {},
   "outputs": [],
   "source": [
    "a = 10\n",
    "b = 5"
   ]
  },
  {
   "cell_type": "markdown",
   "metadata": {},
   "source": [
    "For simple operations, just try to type then. For example adding the variables created previously:"
   ]
  },
  {
   "cell_type": "code",
   "execution_count": null,
   "metadata": {},
   "outputs": [],
   "source": [
    "a + b"
   ]
  },
  {
   "cell_type": "markdown",
   "metadata": {},
   "source": [
    "The result is printed below the cell. It happens because the output was not directed to a new variable. Let's try to do it:"
   ]
  },
  {
   "cell_type": "code",
   "execution_count": null,
   "metadata": {},
   "outputs": [],
   "source": [
    "c = a + b\n",
    "c\n",
    "a"
   ]
  },
  {
   "cell_type": "markdown",
   "metadata": {},
   "source": [
    "Cool! Now, to print the outcome of the variable **c**, just type **c** and run the cell or use the built-in function *print()*:"
   ]
  },
  {
   "cell_type": "code",
   "execution_count": null,
   "metadata": {},
   "outputs": [],
   "source": [
    "print(a)\n",
    "print(c + b)"
   ]
  },
  {
   "cell_type": "markdown",
   "metadata": {},
   "source": [
    "Other simples operations:\n",
    "\n",
    "* ***-*** for subtraction\n",
    "* ***\\**** for multiplication\n",
    "* ***/*** for division\n",
    "\n",
    "Try them later at home!"
   ]
  },
  {
   "cell_type": "markdown",
   "metadata": {},
   "source": [
    "## Python structures\n",
    "\n",
    "1. ***array***: collection of elements of the same type\n",
    "2. ***list***: collection of elements that can have different types. Inclosed in *brackets*\n",
    "3. ***tuple***: similar to list, but with less \"resources\". Inclosed by *parentheses*\n",
    "4. ***dictionary***: sequence of items in pairs, the **key** and the **value**. Inclosed by *curly brackets*"
   ]
  },
  {
   "cell_type": "code",
   "execution_count": null,
   "metadata": {},
   "outputs": [],
   "source": [
    "# This is a list\n",
    "A = [1, 2, 'foo']\n",
    "\n",
    "# This is a tuple\n",
    "B = (1, 2, 'foo')\n",
    "\n",
    "# This is a dict\n",
    "C = {'X': 1, 'Y': [1,2]}"
   ]
  },
  {
   "cell_type": "code",
   "execution_count": null,
   "metadata": {},
   "outputs": [],
   "source": [
    "print(A)"
   ]
  },
  {
   "cell_type": "code",
   "execution_count": null,
   "metadata": {},
   "outputs": [],
   "source": [
    "print(B)"
   ]
  },
  {
   "cell_type": "code",
   "execution_count": null,
   "metadata": {},
   "outputs": [],
   "source": [
    "print(C)"
   ]
  },
  {
   "cell_type": "markdown",
   "metadata": {},
   "source": [
    "Lists are more popular than tuples, as they have a bunch of functionalities, like *.append()*, for example:"
   ]
  },
  {
   "cell_type": "code",
   "execution_count": null,
   "metadata": {},
   "outputs": [],
   "source": [
    "A.append(A)\n",
    "A"
   ]
  },
  {
   "cell_type": "code",
   "execution_count": null,
   "metadata": {},
   "outputs": [],
   "source": [
    "A[-2]"
   ]
  },
  {
   "cell_type": "markdown",
   "metadata": {},
   "source": [
    "You can find more list functionalities [here](https://thomas-cokelaer.info/tutorials/python/lists.html).\n",
    "\n",
    "**Dictionaries** are very powerful to find some *shortcuts* during coding (we will see that later on)."
   ]
  },
  {
   "cell_type": "code",
   "execution_count": null,
   "metadata": {},
   "outputs": [],
   "source": [
    "C.keys()"
   ]
  },
  {
   "cell_type": "code",
   "execution_count": null,
   "metadata": {},
   "outputs": [],
   "source": [
    "C.values()"
   ]
  },
  {
   "cell_type": "code",
   "execution_count": null,
   "metadata": {},
   "outputs": [],
   "source": [
    "C['Y']"
   ]
  },
  {
   "cell_type": "markdown",
   "metadata": {},
   "source": [
    "## Installing and importing packages\n",
    "\n",
    "In python, you can install packages from default repositories. The most commom way to install a package is using the command *pip install package-name*. If you have Anaconda installed in your machine, you can also use the command *conda install*. The installation is usually performed from a terminal, or you can do it from a Notebook cell by including the symbol **!** before the command. For example, if we want to install the visualization package [Seaborn](https://seaborn.pydata.org/):\n",
    "\n",
    "```python\n",
    "! pip install seaborn\n",
    "```\n",
    "\n",
    "To import a package, use the command *import*. For example, to import the scientific computing package [Numpy](http://www.numpy.org/):\n",
    "\n",
    "```python\n",
    "import numpy\n",
    "```\n",
    "\n",
    "Or you can import the package and give it a new \"name\":\n",
    "\n",
    "```python\n",
    "import numpy as np\n",
    "```"
   ]
  },
  {
   "cell_type": "code",
   "execution_count": null,
   "metadata": {},
   "outputs": [],
   "source": [
    "! pip install seaborn"
   ]
  },
  {
   "cell_type": "code",
   "execution_count": null,
   "metadata": {},
   "outputs": [],
   "source": [
    "# import the numpy package\n",
    "import numpy"
   ]
  },
  {
   "cell_type": "code",
   "execution_count": null,
   "metadata": {},
   "outputs": [],
   "source": [
    "a = numpy.array(B)\n",
    "a"
   ]
  },
  {
   "cell_type": "code",
   "execution_count": null,
   "metadata": {},
   "outputs": [],
   "source": [
    "# import the numpy package as np\n",
    "import numpy as np"
   ]
  },
  {
   "cell_type": "code",
   "execution_count": null,
   "metadata": {},
   "outputs": [],
   "source": [
    "a = np.array(B)\n",
    "a"
   ]
  },
  {
   "cell_type": "markdown",
   "metadata": {},
   "source": [
    "## Using imported packages\n",
    "\n",
    "After the the package (or module) is imported, you can use its functionality for coding. The module can be understood as a *.py* files that can contain *classes* and/or *functions* in it.\n",
    "\n",
    "* ***Module***: similar to package\n",
    "* ***Class***: an object that can be associated to functions or definitions from a module or from your coding\n",
    "* ***Functions***: defined sequence of codes (we will study those later)\n",
    "\n",
    "For example, let's import and work with the module [Pandas](https://pandas.pydata.org/):"
   ]
  },
  {
   "cell_type": "code",
   "execution_count": null,
   "metadata": {},
   "outputs": [],
   "source": [
    "import pandas as pd"
   ]
  },
  {
   "cell_type": "code",
   "execution_count": null,
   "metadata": {},
   "outputs": [],
   "source": [
    "d = {'col1': [1, 2, 3, 4, 5, 6, 7, 8], 'col2': [3, 4, 5, 6, 7, 8, 9, 10]}\n",
    "df = pd.DataFrame(data = d)\n",
    "df"
   ]
  },
  {
   "cell_type": "code",
   "execution_count": null,
   "metadata": {},
   "outputs": [],
   "source": [
    "df['col1']"
   ]
  },
  {
   "cell_type": "code",
   "execution_count": null,
   "metadata": {},
   "outputs": [],
   "source": [
    "df.col1"
   ]
  },
  {
   "cell_type": "code",
   "execution_count": null,
   "metadata": {},
   "outputs": [],
   "source": [
    "df['col1'].values"
   ]
  },
  {
   "cell_type": "markdown",
   "metadata": {},
   "source": [
    "Using *pandas*, we created a **dataframe** named **df**. Dataframes are class objects from the *pandas* module. And some functions are associated with this class. Let's try to use the the function *.head()* on the *df* and see what happens:"
   ]
  },
  {
   "cell_type": "code",
   "execution_count": null,
   "metadata": {},
   "outputs": [],
   "source": [
    "df.head(2)"
   ]
  },
  {
   "cell_type": "markdown",
   "metadata": {},
   "source": [
    "Now, print the last 2 rows of the dataframe **df** (hint: google for the *tail* functionality):"
   ]
  },
  {
   "cell_type": "code",
   "execution_count": null,
   "metadata": {},
   "outputs": [],
   "source": []
  }
 ],
 "metadata": {
  "kernelspec": {
   "display_name": "Python 3",
   "language": "python",
   "name": "python3"
  },
  "language_info": {
   "codemirror_mode": {
    "name": "ipython",
    "version": 3
   },
   "file_extension": ".py",
   "mimetype": "text/x-python",
   "name": "python",
   "nbconvert_exporter": "python",
   "pygments_lexer": "ipython3",
   "version": "3.7.0"
  }
 },
 "nbformat": 4,
 "nbformat_minor": 2
}
