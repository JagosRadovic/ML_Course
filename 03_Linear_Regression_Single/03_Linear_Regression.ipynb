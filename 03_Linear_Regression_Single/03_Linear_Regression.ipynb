{
 "cells": [
  {
   "cell_type": "markdown",
   "metadata": {},
   "source": [
    "# Linear Regression with a Single Feature\n",
    "\n",
    "In this notebook, we are going through the [linear regression](https://en.wikipedia.org/wiki/Linear_regression) implementation, comparing our predictions with the [Scikit-Learn](https://scikit-learn.org/stable/) module.\n",
    "\n",
    "A *linear regression* can be applied on datasets with single or multiple features. For now, let's focus on the implementation for a single feature."
   ]
  },
  {
   "cell_type": "markdown",
   "metadata": {},
   "source": [
    "First, let's import useful packages for the implementation:"
   ]
  },
  {
   "cell_type": "code",
   "execution_count": null,
   "metadata": {},
   "outputs": [],
   "source": [
    "import pandas as pd\n",
    "import numpy as np\n",
    "import matplotlib.pyplot as plt\n",
    "plt.style.use('seaborn') # plotting style. The seaborn one works well for ligth or dark themes"
   ]
  },
  {
   "cell_type": "markdown",
   "metadata": {},
   "source": [
    "For this notebook, we are going to use an open source dataset of features of houses in Boston to predict its price.\n",
    "\n",
    "So, let's read the csv data and convert it to a pandas DataFrame."
   ]
  },
  {
   "cell_type": "code",
   "execution_count": null,
   "metadata": {},
   "outputs": [],
   "source": [
    "data = pd.read_csv('../data/BostonHousing.csv')\n",
    "data.head()"
   ]
  },
  {
   "cell_type": "code",
   "execution_count": null,
   "metadata": {},
   "outputs": [],
   "source": [
    "data.columns"
   ]
  },
  {
   "cell_type": "markdown",
   "metadata": {},
   "source": [
    "Wow, the data has a lot of columns...\n",
    "\n",
    "Let's see the definition of each columns:\n",
    "\n",
    "| Column Name | Description |\n",
    "| :-----: |    :---:    |\n",
    "|   id    | Identification number of the house |\n",
    "|   date    | Date of the aquired information |\n",
    "|   price    | Price of the house |\n",
    "|   bedrooms    | Number of bedrooms in the house |\n",
    "|   bathrooms    | Number of bathrooms in the houne |\n",
    "|   sqft_living    | Square footage of the living area |\n",
    "|   sqft_lot    | Square footage of the lot area |\n",
    "|   floors    | Number of floors in the house |\n",
    "|   waterfront    | If it has water front |\n",
    "|   view    | If it has view |\n",
    "|   condition    | Condition of the house |\n",
    "|   grade    | Grade given to the house |\n",
    "|   sqft_above    | Square footage of the up part of the house |\n",
    "|   sqft_basement    | Square footage of the basement |\n",
    "|   yr_built    | Year the house was built |\n",
    "|   yr_renovated    | Year of the last renovation of the house |\n",
    "|   zipcode    | Zipcode |\n",
    "|   lat    | Latitude of the house |\n",
    "|   long    | Longitude of the house |\n",
    "|   sqft_living15    | Square footage of the living area of the 15 nearest houses |\n",
    "|   sqft_lot15    | Square footage of the lot area of the 15 nearest houses |\n",
    "\n",
    "Let's take a look on the data:"
   ]
  },
  {
   "cell_type": "code",
   "execution_count": null,
   "metadata": {},
   "outputs": [],
   "source": [
    "data.info()"
   ]
  },
  {
   "cell_type": "code",
   "execution_count": null,
   "metadata": {},
   "outputs": [],
   "source": [
    "data.describe()"
   ]
  },
  {
   "cell_type": "markdown",
   "metadata": {},
   "source": [
    "Let's do a few plots of the features over the price:"
   ]
  },
  {
   "cell_type": "code",
   "execution_count": null,
   "metadata": {},
   "outputs": [],
   "source": [
    "features = list(data.columns[3:])\n",
    "\n",
    "# sqft_living\n",
    "data.plot(x = 'price', y = 'sqft_living', figsize = (20,5), kind = 'scatter')"
   ]
  },
  {
   "cell_type": "code",
   "execution_count": null,
   "metadata": {},
   "outputs": [],
   "source": [
    "# sqft_lot\n",
    "data.plot(x = 'price', y = 'sqft_lot', figsize = (20,5), kind = 'scatter')"
   ]
  },
  {
   "cell_type": "code",
   "execution_count": null,
   "metadata": {},
   "outputs": [],
   "source": [
    "# waterfront\n",
    "data.plot(x = 'price', y = 'waterfront', figsize = (20,5), kind = 'scatter')"
   ]
  },
  {
   "cell_type": "code",
   "execution_count": null,
   "metadata": {},
   "outputs": [],
   "source": [
    "# sqft_living15\n",
    "data.plot(x = 'price', y = 'sqft_living15', figsize = (20,7), kind = 'scatter')"
   ]
  },
  {
   "cell_type": "code",
   "execution_count": null,
   "metadata": {},
   "outputs": [],
   "source": [
    "# sqft_lot15\n",
    "data.plot(x = 'price', y = 'sqft_lot15', figsize = (20,7), kind = 'scatter')"
   ]
  },
  {
   "cell_type": "code",
   "execution_count": null,
   "metadata": {},
   "outputs": [],
   "source": [
    "# bedrooms\n",
    "data.plot(x = 'price', y = 'bedrooms', figsize = (20,7), kind = 'scatter')"
   ]
  },
  {
   "cell_type": "code",
   "execution_count": null,
   "metadata": {},
   "outputs": [],
   "source": [
    "# bathrroms\n",
    "data.plot(x = 'price', y = 'bathrooms', figsize = (20,7), kind = 'scatter')"
   ]
  },
  {
   "cell_type": "code",
   "execution_count": null,
   "metadata": {},
   "outputs": [],
   "source": [
    "# Condition\n",
    "data.plot(x = 'price', y = 'condition', figsize = (20,7), kind = 'scatter')"
   ]
  },
  {
   "cell_type": "code",
   "execution_count": null,
   "metadata": {},
   "outputs": [],
   "source": [
    "# grade\n",
    "data.plot(x = 'price', y = 'grade', figsize = (20,7), kind = 'scatter')"
   ]
  },
  {
   "cell_type": "markdown",
   "metadata": {},
   "source": [
    "### Plotting using a for loop"
   ]
  },
  {
   "cell_type": "code",
   "execution_count": null,
   "metadata": {},
   "outputs": [],
   "source": [
    "target = 'price' # target column\n",
    "\n",
    "fig, ax = plt.subplots(len(features), 1, figsize = (20, len(features)*6))\n",
    "for i, f in enumerate(features):\n",
    "    ax[i].scatter(data[target].values, data[f].values, s = 15)\n",
    "    ax[i].set_xlabel(target, fontsize = 14)\n",
    "    ax[i].set_ylabel(f, fontsize = 14)"
   ]
  },
  {
   "cell_type": "markdown",
   "metadata": {},
   "source": [
    "Or you can do the subplots in just one line, by faking the **DataFrame.plot(kind = 'line')** to be a scatter plot. Check the options *linestyle* and *marker* of the argument parameters.\n",
    "\n",
    "Now, follow those hints, *Google* the options and do the subplots in just one programming line:"
   ]
  },
  {
   "cell_type": "code",
   "execution_count": null,
   "metadata": {},
   "outputs": [],
   "source": [
    "# YOUR CODE HERE #\n"
   ]
  },
  {
   "cell_type": "markdown",
   "metadata": {},
   "source": [
    "Let's check the price of the houses by location, as the features latitude and longitude showed to matter:"
   ]
  },
  {
   "cell_type": "code",
   "execution_count": null,
   "metadata": {},
   "outputs": [],
   "source": [
    "plt.figure(figsize = (30,15))\n",
    "data.sort_values(by = 'price', inplace = True)\n",
    "plt.scatter(x = data['long'], y = data['lat'], s = 1500*data[target]/max(data[target]), alpha = 0.4, edgecolor = 'w', c = data[target], cmap = 'jet')\n",
    "plt.xlabel('Latitude', fontsize = 16)\n",
    "plt.ylabel('Longitude', fontsize = 16)\n",
    "ax = plt.colorbar(orientation = 'vertical')\n",
    "ax.set_label('Price', fontsize = 20)"
   ]
  },
  {
   "cell_type": "markdown",
   "metadata": {},
   "source": [
    "Nice! Based on visual inference, some features look to have higher correlation with the price than others. Now, let's see how to do predictions using linear regression."
   ]
  },
  {
   "cell_type": "markdown",
   "metadata": {},
   "source": [
    "## Train/Testing Split\n",
    "\n",
    "To validate a machine learning model, it is very common to split the data into a training and a validation (testing) set.\n",
    "\n",
    "Let's do it. Let's get 80% of the data (randomly) as training and 20% as testing."
   ]
  },
  {
   "cell_type": "code",
   "execution_count": null,
   "metadata": {},
   "outputs": [],
   "source": [
    "msk = np.random.rand(len(data)) < 0.8 # Create a mask with random indexes\n",
    "\n",
    "train = data[msk]\n",
    "test = data[~msk]\n",
    "\n",
    "print(len(data), len(train), len(test), len(train) + len(test))"
   ]
  },
  {
   "cell_type": "markdown",
   "metadata": {},
   "source": [
    "# Linear Regression Method\n",
    "\n",
    "We want to fit a line that best estimates all the values in the training set. For that, we need to find 2 parameters: the slope and the intercept. The equation of the line is:\n",
    "\n",
    "$$y_{i}^{,}(x_i) = w_0 + w_{1}*x_i$$\n",
    "\n",
    "Now, we want to find the parameters $w_0$ and $w_1$ that reduces the cost function (the sum of the squared difference between measured data $y_i$ to the predicted data $y_{i}^{,}$):\n",
    "\n",
    "$$RSS(w_0,w_1) = \\sum_{i=1}^{N}(y_i - y_{i}^{,})^2 = \\sum_{i=1}^{N}(y_i - [w_0 + w_{1}*x_i])^2$$\n",
    "\n",
    "Minimizing the cost function means to take the derivative of cost function for each parameter ($w_0$ and $w_1$) and make it equal to zero. This leads to 2 simple formulas for $w_0$ and $w_1$:\n",
    "\n",
    "$$w_0 = \\frac{\\sum_{i=1}^{N}y_i}{N} - w_{1}\\frac{\\sum_{i=1}^{N}x_i}{N}$$\n",
    "\n",
    "and\n",
    "\n",
    "$$w_1 = \\frac{\\sum_{i=1}^{N}y_{i}x_{i} - \\frac{\\sum_{i=1}^{N}y_{i}\\sum_{i=1}^{N}x_{i}}{N}}{\\sum_{i=1}^{N}x_{i}^2 - \\frac{\\sum_{i=1}^{N}x_{i}\\sum_{i=1}^{N}x_{i}}{N}}$$\n",
    "\n",
    "With the equations above, it is possible to compute the intercept ($w_0$) and the slope ($w_1$) that best predict the output $(y_{i}^{'})$ given the input $x_i$ and the measured data $y_i$ (for one feature only).\n",
    "\n",
    "Now, let's create the function that gets the input feature $x_i$ and the measured data $y_i$ of the training set, and return the intercept $w_0$ and the slope $w_1$.\n",
    "\n",
    "Click [here](https://www.w3schools.com/python/python_functions.asp) to learn how to define a function in python.\n",
    "\n",
    "Note: you need to complete the code at some places."
   ]
  },
  {
   "cell_type": "code",
   "execution_count": null,
   "metadata": {},
   "outputs": [],
   "source": [
    "def linear_regression_single(input_feature, measured_data):\n",
    "    # First, let's compute the sums and squared sums of the parameters equations\n",
    "    Isum = input_feature.sum()\n",
    "    Msum = measured_data.sum()\n",
    "    IMsum = sum([input_feature[i]*measured_data[i] for i in range(len(input_feature))])\n",
    "    IIsum = sum([input_feature[i]*input_feature[i] for i in range(len(input_feature))])\n",
    "\n",
    "    # We need to compute the slope first\n",
    "    num = IMsum-(1./len(input_feature)*(Isum*Msum))\n",
    "    den = IIsum-(1./len(input_feature)*(Isum*Isum))\n",
    "    \n",
    "    # YOUR CODE HERE #\n",
    "    slope = \n",
    "    \n",
    "    # Now that we have the slope, we can compute the intercept\n",
    "    intercept = (1./len(input_feature))*Msum-slope*Isum*(1./len(input_feature))\n",
    "    \n",
    "    # Return the parameters\n",
    "    return intercept, slope"
   ]
  },
  {
   "cell_type": "markdown",
   "metadata": {},
   "source": [
    "Let's test our function:"
   ]
  },
  {
   "cell_type": "code",
   "execution_count": null,
   "metadata": {},
   "outputs": [],
   "source": [
    "intercept_1, slope_1 = linear_regression_single(train['sqft_living'].values, train['price'].values)\n",
    "\n",
    "print(\"Intercept: \" + str(intercept_1))\n",
    "print(\"Slope: \" + str(slope_1))"
   ]
  },
  {
   "cell_type": "markdown",
   "metadata": {},
   "source": [
    "The next step is to calculate the estimations $y_{i}^{,}$ by using the linear equation:\n",
    "\n",
    "$$y_{i}^{,}(x_i) = w_0 + w_{1}*x_i$$\n",
    "\n",
    "Let's create a function that gets the input feature $x_i$ and the measured data $y_i$. It needs to estimate the intercept $w_0$ and slope $w_1$ and calculate the predictions $y_{i}^{,}$ using the linear equation above."
   ]
  },
  {
   "cell_type": "code",
   "execution_count": null,
   "metadata": {},
   "outputs": [],
   "source": [
    "def regression_predictions_single(input_feature, measured_data):\n",
    "    # First, we need to estimete the intercept and the slope\n",
    "    intercept, slope = linear_regression_single(input_feature, measured_data)\n",
    "    \n",
    "    # Now, compute the predictions\n",
    "    # YOUR CODE HERE #\n",
    "    predicted_values = \n",
    "        \n",
    "    # Return outputs\n",
    "    return predicted_values, intercept, slope"
   ]
  },
  {
   "cell_type": "markdown",
   "metadata": {},
   "source": [
    "Let's test our function:"
   ]
  },
  {
   "cell_type": "code",
   "execution_count": null,
   "metadata": {},
   "outputs": [],
   "source": [
    "predictions, intercept, slope = regression_predictions_single(train['sqft_living'].values, train['price'].values)\n",
    "\n",
    "plt.figure(figsize = (20,7))\n",
    "plt.plot(train['sqft_living'], train['price']/1000000,'.', color = 'blue', label = 'Training data')\n",
    "plt.plot(train['sqft_living'], predictions/1000000,'-', color = 'orange', label = 'Predictions')\n",
    "plt.ylabel('Price (Millions USD$)')\n",
    "plt.xlabel('House Size (Square Feet)')\n",
    "xl = plt.xlim()\n",
    "yl = plt.ylim()\n",
    "plt.legend()\n",
    "plt.show()"
   ]
  },
  {
   "cell_type": "markdown",
   "metadata": {},
   "source": [
    "Above, we did a linear regression for the whole dataset. Below, use the slope and intercept estimated in the training data to make estimations over the testing data:"
   ]
  },
  {
   "cell_type": "code",
   "execution_count": null,
   "metadata": {},
   "outputs": [],
   "source": [
    "# YOUR CODE HERE #\n",
    "predictions_test = \n",
    "\n",
    "plt.figure(figsize = (20,7))\n",
    "plt.plot(test['sqft_living'], test['price']/1000000,'.', color = 'blue', label = 'Testing data')\n",
    "plt.plot(test['sqft_living'], predictions_test/1000000,'-', color = 'orange', label = 'Predictions')\n",
    "plt.ylabel('Price (Millions USD$)')\n",
    "plt.xlabel('House Size (Square Feet)')\n",
    "plt.xlim(xl)\n",
    "plt.ylim(yl)\n",
    "plt.legend()\n",
    "plt.show()"
   ]
  },
  {
   "cell_type": "markdown",
   "metadata": {},
   "source": [
    "Now, use the calculated slope and intercept to do the prediction of a single size value:"
   ]
  },
  {
   "cell_type": "code",
   "execution_count": null,
   "metadata": {},
   "outputs": [],
   "source": [
    "size_to_predict = 15000 # sqft_living to be predicted\n",
    "\n",
    "# YOUR CODE HERE #\n",
    "prediction = \n",
    "\n",
    "print('Size (sqft): %.i' % size_to_predict)\n",
    "print('Price (USD$): %.i' % prediction)"
   ]
  },
  {
   "cell_type": "markdown",
   "metadata": {},
   "source": [
    "### Congratulations!!!!\n",
    "\n",
    "You just created your own linear regression pipeline for a single variable!\n",
    "\n",
    "Now, let's compare it with the [linear regression function](https://scikit-learn.org/stable/modules/generated/sklearn.linear_model.LinearRegression.html) from the [Scikit-Learn](https://scikit-learn.org/stable/index.html) module."
   ]
  },
  {
   "cell_type": "markdown",
   "metadata": {},
   "source": [
    "# Linear regression with Scikit-Learn\n",
    "\n",
    "The [Scikit-Learn](https://scikit-learn.org/stable/index.html) module is usually automaticaly installed during the **Anaconda** instalation. If you don't have it, create a new cell and run:\n",
    "\n",
    "```python\n",
    "! pip install -U scikit-learn\n",
    "```\n",
    "\n",
    "For the linear regression, we will use the function [LinearRegression](https://scikit-learn.org/stable/modules/generated/sklearn.linear_model.LinearRegression.html) from the [sklearn.linear_model](https://scikit-learn.org/stable/modules/classes.html#module-sklearn.linear_model) submodule."
   ]
  },
  {
   "cell_type": "code",
   "execution_count": null,
   "metadata": {},
   "outputs": [],
   "source": [
    "from sklearn.linear_model import LinearRegression"
   ]
  },
  {
   "cell_type": "markdown",
   "metadata": {},
   "source": [
    "First create a model with the desired parameters. Here, let's just use the default ones."
   ]
  },
  {
   "cell_type": "code",
   "execution_count": null,
   "metadata": {},
   "outputs": [],
   "source": [
    "reg = LinearRegression()"
   ]
  },
  {
   "cell_type": "markdown",
   "metadata": {},
   "source": [
    "Now, fit the model to the train dataset:"
   ]
  },
  {
   "cell_type": "code",
   "execution_count": null,
   "metadata": {},
   "outputs": [],
   "source": [
    "reg.fit(train['sqft_living'].values.reshape(-1, 1), train[target])"
   ]
  },
  {
   "cell_type": "markdown",
   "metadata": {},
   "source": [
    "Compute the predictions:"
   ]
  },
  {
   "cell_type": "code",
   "execution_count": null,
   "metadata": {},
   "outputs": [],
   "source": [
    "reg_pred = reg.predict(test['sqft_living'].values.reshape(-1, 1))"
   ]
  },
  {
   "cell_type": "markdown",
   "metadata": {},
   "source": [
    "Let's compare the curves:"
   ]
  },
  {
   "cell_type": "code",
   "execution_count": null,
   "metadata": {},
   "outputs": [],
   "source": [
    "plt.figure(figsize = (20,7))\n",
    "plt.plot(test['sqft_living'], test['price']/1000000,'.', color = 'blue', label = 'Testing data')\n",
    "plt.plot(test['sqft_living'], predictions_test/1000000,'-', color = 'orange', label = 'Our Predictions')\n",
    "plt.plot(test['sqft_living'], reg_pred/1000000,'-.', color = 'green', alpha = 0.5, label = 'Sklearn Predictions')\n",
    "plt.ylabel('Price (Millions USD$)')\n",
    "plt.xlabel('House Size (Square Feet)')\n",
    "plt.xlim(xl)\n",
    "plt.ylim(yl)\n",
    "plt.legend()\n",
    "plt.show()"
   ]
  },
  {
   "cell_type": "markdown",
   "metadata": {},
   "source": [
    "Predicting one single value:"
   ]
  },
  {
   "cell_type": "code",
   "execution_count": null,
   "metadata": {},
   "outputs": [],
   "source": [
    "sing_pred = reg.predict(np.array(size_to_predict).reshape(1, -1))"
   ]
  },
  {
   "cell_type": "markdown",
   "metadata": {},
   "source": [
    "Compare to what we had before:"
   ]
  },
  {
   "cell_type": "code",
   "execution_count": null,
   "metadata": {},
   "outputs": [],
   "source": [
    "print('Size (sqft): %.i' % size_to_predict)\n",
    "print('Price (USD$): %.i (our prediction)' % prediction)\n",
    "print('Price (USD$): %.i (sklearn prediction)' % sing_pred)"
   ]
  }
 ],
 "metadata": {
  "kernelspec": {
   "display_name": "Python 3",
   "language": "python",
   "name": "python3"
  },
  "language_info": {
   "codemirror_mode": {
    "name": "ipython",
    "version": 3
   },
   "file_extension": ".py",
   "mimetype": "text/x-python",
   "name": "python",
   "nbconvert_exporter": "python",
   "pygments_lexer": "ipython3",
   "version": "3.7.0"
  }
 },
 "nbformat": 4,
 "nbformat_minor": 2
}
